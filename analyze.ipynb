{
 "cells": [
  {
   "cell_type": "code",
   "execution_count": null,
   "metadata": {},
   "outputs": [],
   "source": [
    "import pandas as pd\n",
    "import numpy as np\n",
    "import plotly.express as px\n",
    "import plotly.graph_objects as go"
   ]
  },
  {
   "cell_type": "code",
   "execution_count": null,
   "metadata": {},
   "outputs": [],
   "source": [
    "results = pd.read_excel('CrowdAI_instance_based.xlsx')"
   ]
  },
  {
   "cell_type": "markdown",
   "metadata": {},
   "source": [
    "**Analysing the Annotations Distribution**"
   ]
  },
  {
   "cell_type": "code",
   "execution_count": null,
   "metadata": {},
   "outputs": [],
   "source": [
    "# distribution of orientation\n",
    "fig0 = px.histogram(results, x='orientation',\n",
    "                    labels={'orientation': 'orientation (deg)'},\n",
    "                    width=800, height=400)\n",
    "fig0.update_layout(\n",
    "    xaxis = dict(\n",
    "        tickmode = 'linear',\n",
    "        tick0 = -180,\n",
    "        dtick = 45\n",
    "    )\n",
    ")\n",
    "fig0.show()\n",
    "fig0.write_image('./outputs/fig0.png')\n",
    "# fig0 = px.bar_polar(results, r=\"frequency\", theta='orientation')\n",
    "# TODO: Add polar histogram"
   ]
  },
  {
   "cell_type": "code",
   "execution_count": null,
   "metadata": {},
   "outputs": [],
   "source": [
    "# distribution of #vetices\n",
    "fig1 = px.histogram(results, x='#vertices', width=800, height=400)  # , template='plotly_dark'\n",
    "fig1.update_layout(\n",
    "    xaxis = dict(\n",
    "    tickmode = 'linear',\n",
    "    tick0 = 0,\n",
    "    dtick = 10\n",
    "    )\n",
    ")\n",
    "fig1.show()\n",
    "fig1.write_image('./outputs/fig1.png')"
   ]
  },
  {
   "cell_type": "code",
   "execution_count": null,
   "metadata": {},
   "outputs": [],
   "source": [
    "# Distribution of #vertices in each size category\n",
    "fig2 = px.box(results, x='size', y='#vertices', title='Distribution of #vertices per Size Category',\n",
    "              color='size', width=800, height=400)  # points='all',\n",
    "fig2.show()\n",
    "fig2.write_image('./outputs/fig2.png')"
   ]
  },
  {
   "cell_type": "code",
   "execution_count": null,
   "metadata": {},
   "outputs": [],
   "source": [
    "results[results['#vertices'] == 263] "
   ]
  },
  {
   "cell_type": "code",
   "execution_count": null,
   "metadata": {},
   "outputs": [],
   "source": [
    "results[np.logical_and(results['#vertices'] == 81, results['size'] == 'medium')]"
   ]
  },
  {
   "cell_type": "code",
   "execution_count": null,
   "metadata": {},
   "outputs": [],
   "source": [
    "results[np.logical_and(results['#vertices'] == 73, results['size'] == 'small')]"
   ]
  },
  {
   "cell_type": "code",
   "execution_count": null,
   "metadata": {},
   "outputs": [],
   "source": [
    "# distribution of size\n",
    "fig3 = px.histogram(results, x='size', width=800, height=400)\n",
    "fig3.show()\n",
    "fig3.write_image('./outputs/fig3.png')"
   ]
  },
  {
   "cell_type": "code",
   "execution_count": null,
   "metadata": {},
   "outputs": [],
   "source": [
    "# distribution of area per size category\n",
    "fig4 = px.box(results, x='size', y='area', title='Distribution of area per Size Category', color='size',\n",
    "               labels={'area': 'area (sq. pixels)'},\n",
    "              width=800, height=400)  #, template='plotly_dark'\n",
    "fig4.show()\n",
    "fig4.write_image('./outputs/fig4.png')"
   ]
  },
  {
   "cell_type": "code",
   "execution_count": null,
   "metadata": {},
   "outputs": [],
   "source": [
    "# distribution of area\n",
    "fig5 = px.histogram(results, x='area', labels={'area': 'area (sq. pixels)'}, width=1500, height=400)\n",
    "fig5.show()\n",
    "fig5.write_image('./outputs/fig5.png')"
   ]
  },
  {
   "cell_type": "code",
   "execution_count": null,
   "metadata": {},
   "outputs": [],
   "source": [
    "# distribution of area in small buildings\n",
    "fig6 = px.histogram(results[results['size'] == 'small'], x='area', labels={'area': 'area (sq. pixels)'}, width=800, height=400)\n",
    "fig6.show()\n",
    "fig6.write_image('./outputs/fig6.png')"
   ]
  },
  {
   "cell_type": "code",
   "execution_count": null,
   "metadata": {},
   "outputs": [],
   "source": [
    "# distribution of area in medium buildings\n",
    "fig7 = px.histogram(results[results['size'] == 'medium'], x='area', labels={'area': 'area (sq. pixels)'}, width=800, height=400)\n",
    "fig7.show()\n",
    "fig7.write_image('./outputs/fig7.png')"
   ]
  },
  {
   "cell_type": "code",
   "execution_count": null,
   "metadata": {},
   "outputs": [],
   "source": [
    "# distrubtion of touch_boundary\n",
    "fig8 = px.histogram(results, x='touch_border', width=800, height=400)\n",
    "fig8.show()\n",
    "fig8.write_image('./outputs/fig8.png')"
   ]
  },
  {
   "cell_type": "code",
   "execution_count": null,
   "metadata": {},
   "outputs": [],
   "source": [
    "# Q: Size distribution of buildings which touch the borders\n",
    "fig9 = px.histogram(results, x='size', color='touch_border', width=800, height=400)\n",
    "fig9.show()\n",
    "fig9.write_image('./outputs/fig9.png')"
   ]
  },
  {
   "cell_type": "markdown",
   "metadata": {},
   "source": [
    "**Analysing the Results**"
   ]
  },
  {
   "cell_type": "markdown",
   "metadata": {},
   "source": [
    "PoliS"
   ]
  },
  {
   "cell_type": "code",
   "execution_count": null,
   "metadata": {},
   "outputs": [],
   "source": [
    "# PoLiS vs #vertices\n",
    "fig10 = px.scatter(results[results['polis'] >= 0], x='#vertices', y='polis', color='size', width=800, height=400)\n",
    "fig10.update_traces(marker_size=3)\n",
    "fig10.show()\n",
    "fig10.write_image('./outputs/fig10.png')"
   ]
  },
  {
   "cell_type": "code",
   "execution_count": null,
   "metadata": {},
   "outputs": [],
   "source": [
    "# PoLiS vs difference in pred & gt #vertices \n",
    "fig100 = px.scatter(results[results['polis'] >= 0], x='N_diff', y='polis', color='size',\n",
    "                    labels={'polis': 'PoLiS (pixels)', 'N_diff': '#pred - #gt'},\n",
    "                    width=800, height=400)\n",
    "fig100.update_traces(marker_size=3)\n",
    "fig100.show()\n",
    "fig100.write_image('./outputs/fig100.png')"
   ]
  },
  {
   "cell_type": "code",
   "execution_count": null,
   "metadata": {},
   "outputs": [],
   "source": [
    "# get the img, ins ids of blunders\n",
    "results[results['polis'] > 60]"
   ]
  },
  {
   "cell_type": "code",
   "execution_count": null,
   "metadata": {},
   "outputs": [],
   "source": [
    "# PoLiS vs orientation\n",
    "fig11 = px.scatter_polar(results[results['polis'] >= 0], r='polis', theta='orientation', labels={'polis': 'PoLiS (pixels)'}, width=800, height=400)\n",
    "fig11.show()\n",
    "fig11.write_image('./outputs/fig11.png')"
   ]
  },
  {
   "cell_type": "code",
   "execution_count": null,
   "metadata": {},
   "outputs": [],
   "source": [
    "# Q: Does touching borders matter in Polis?\n",
    "fig12 = px.histogram(results[results['polis'] > 5], x='polis', color='touch_border', labels={'polis': 'PoLiS (pixels)'}, width=800, height=400)\n",
    "fig12.show()\n",
    "fig12.write_image('./outputs/fig12.png')"
   ]
  },
  {
   "cell_type": "markdown",
   "metadata": {},
   "source": [
    "MTA"
   ]
  },
  {
   "cell_type": "code",
   "execution_count": null,
   "metadata": {},
   "outputs": [],
   "source": [
    "# mta vs size\n",
    "fig13 = px.scatter(results[results['mta'] >= 0], x = 'area', y='mta', color='size',\n",
    "                   labels={'mta': 'MTA (deg)', 'area': 'area (sq pixels)'}, width=1200, height=400)\n",
    "fig13.update_traces(marker_size=4)\n",
    "fig13.show()\n",
    "fig13.write_image('./outputs/fig13.png')"
   ]
  },
  {
   "cell_type": "code",
   "execution_count": null,
   "metadata": {},
   "outputs": [],
   "source": [
    "# MTA vs difference in pred & gt #vertices \n",
    "fig101 = px.scatter(results[results['mta'] >= 0], x='N_diff', y='mta', color='size',\n",
    "                    labels={'mta': 'MTA (deg)', 'N_diff': '#pred - #gt'},\n",
    "                    width=800, height=400)\n",
    "fig101.update_traces(marker_size=3)\n",
    "fig101.show()\n",
    "fig101.write_image('./outputs/fig101.png')"
   ]
  },
  {
   "cell_type": "code",
   "execution_count": null,
   "metadata": {},
   "outputs": [],
   "source": [
    "# MTA vs orientation\n",
    "fig14 = px.scatter_polar(results[results['mta'] >= 0], r='mta', theta='orientation', width=800, height=400)\n",
    "fig14.show()\n",
    "fig14.write_image('./outputs/fig14.png')"
   ]
  },
  {
   "cell_type": "code",
   "execution_count": null,
   "metadata": {},
   "outputs": [],
   "source": [
    "# get the img, ins ids of blunders"
   ]
  },
  {
   "cell_type": "code",
   "execution_count": null,
   "metadata": {},
   "outputs": [],
   "source": [
    "# mta vs #vertices\n",
    "fig15 = px.scatter(results[results['mta'] >= 0], x='#vertices',\n",
    "                   y='mta', color='size', labels={'mta': 'MTA (deg)'},\n",
    "                   trendline=\"ols\", opacity=0.45, width=1200, height=400)\n",
    "fig15.update_traces(marker_size=4)\n",
    "fig15.show()\n",
    "fig15.write_image('./outputs/fig15.png')"
   ]
  },
  {
   "cell_type": "code",
   "execution_count": null,
   "metadata": {},
   "outputs": [],
   "source": [
    "# Q: Contribution to the Error by the buildings in each size category: MTA\n",
    "fig16 = px.histogram(results[results['mta'] >= 0], x='mta', color='size',\n",
    "                     labels={'mta': 'MTA (deg)'}, width=1200, height=400)\n",
    "fig16.show()\n",
    "fig16.write_image('./outputs/fig16.png')"
   ]
  },
  {
   "cell_type": "code",
   "execution_count": null,
   "metadata": {},
   "outputs": [],
   "source": [
    "# Q: Contribution to the Error by the buildings which touch the borders vs the ones don't: MTA\n",
    "fig17 = px.histogram(results[results['mta'] >= 0], x='mta',\n",
    "                     color='touch_border', labels={'mta': 'MTA (deg)'},\n",
    "                     width=1200, height=400)\n",
    "fig17.show()\n",
    "fig17.write_image('./outputs/fig17.png')"
   ]
  },
  {
   "cell_type": "markdown",
   "metadata": {},
   "source": [
    "Box IoU"
   ]
  },
  {
   "cell_type": "code",
   "execution_count": null,
   "metadata": {},
   "outputs": [],
   "source": [
    "# box iou vs orientation\n",
    "fig18 = px.scatter_polar(results, r='box_iou', theta='orientation', width=800, height=400)\n",
    "fig18.show()\n",
    "fig18.write_image('./outputs/fig18.png')"
   ]
  },
  {
   "cell_type": "code",
   "execution_count": null,
   "metadata": {},
   "outputs": [],
   "source": [
    "# box iou vs size\n",
    "fig19 = px.scatter(results, x='area', y='box_iou', color='size',\n",
    "                   labels={'area': 'Area (Sq. Pixels)', 'box_iou': 'IoU'},\n",
    "                   width=1500, height=400)\n",
    "fig19.update_traces(marker_size=4)\n",
    "fig19.show()\n",
    "fig19.write_image('./outputs/fig19.png')"
   ]
  },
  {
   "cell_type": "code",
   "execution_count": null,
   "metadata": {},
   "outputs": [],
   "source": [
    "# box iou vs #vertices\n",
    "fig20 = px.scatter(results, x = '#vertices', y='box_iou',\n",
    "                   color='size', labels={'box_iou': 'IoU'},\n",
    "                   width=800, height=400)\n",
    "fig20.update_traces(marker_size=4)\n",
    "fig20.show()\n",
    "fig20.write_image('./outputs/fig20.png')"
   ]
  },
  {
   "cell_type": "code",
   "execution_count": null,
   "metadata": {},
   "outputs": [],
   "source": [
    "# How many percentage of buildings with low/high IoU are small/medium/large ones?\n",
    "fig21 = px.histogram(results, x='box_iou', color='size',\n",
    "                     labels={'box_iou': 'IoU'}, width=800, height=400)\n",
    "fig21.show()\n",
    "fig21.write_image('./outputs/fig21.png')"
   ]
  },
  {
   "cell_type": "code",
   "execution_count": null,
   "metadata": {},
   "outputs": [],
   "source": [
    "# Q: Contribution to the Error by the buildings which touch the borders for each size category: Box IoU < 0.5\n",
    "fig22 = px.histogram(results[np.logical_and(results['touch_border'], results['box_iou'] < 0.5)],\n",
    "                     x='box_iou', color='size', labels={'box_iou': 'IoU'},\n",
    "                     width=800, height=400)\n",
    "fig22.show()\n",
    "fig22.write_image('./outputs/fig22.png')"
   ]
  },
  {
   "cell_type": "code",
   "execution_count": null,
   "metadata": {},
   "outputs": [],
   "source": [
    "# Q: Contribution to the Error by the buildings which touch the borders vs the ones don't: Box IoU\n",
    "fig23 = px.histogram(results, x='box_iou', color='touch_border',\n",
    "                     labels={'box_iou': 'IoU'},\n",
    "                     width=800, height=400)\n",
    "fig23.show()\n",
    "fig23.write_image('./outputs/fig23.png')"
   ]
  },
  {
   "cell_type": "code",
   "execution_count": null,
   "metadata": {},
   "outputs": [],
   "source": [
    "# Q: Contribution to the Error by the buildings which touch the borders vs the ones don't: Box IoU < 0.5\n",
    "fig24 = px.histogram(results[results['box_iou'] < 0.5], x='box_iou',\n",
    "                     color='touch_border', labels={'box_iou': 'IoU'},\n",
    "                     width=800, height=400)\n",
    "fig24.show()\n",
    "fig24.write_image('./outputs/fig24.png')"
   ]
  },
  {
   "cell_type": "code",
   "execution_count": null,
   "metadata": {},
   "outputs": [],
   "source": [
    "# IoU vs difference in pred & gt #vertices \n",
    "fig102 = px.scatter(results[results['iou'] >= 0], x='N_diff', y='iou', color='size',\n",
    "                    labels={'iou': 'IoU', 'N_diff': '#pred - #gt'},\n",
    "                    width=800, height=400)\n",
    "fig102.update_traces(marker_size=3)\n",
    "fig102.show()\n",
    "fig102.write_image('./outputs/fig102.png')"
   ]
  },
  {
   "cell_type": "code",
   "execution_count": null,
   "metadata": {},
   "outputs": [],
   "source": [
    "# IoU vs difference in pred & gt #vertices \n",
    "fig103 = px.scatter(results[results['size'] == 'small'], x='N_diff', y='iou', color='size',\n",
    "                    labels={'iou': 'IoU', 'N_diff': '#pred - #gt'},\n",
    "                    width=800, height=400)\n",
    "fig103.update_traces(marker_size=3)\n",
    "fig103.show()\n",
    "fig103.write_image('./outputs/fig103.png')"
   ]
  },
  {
   "cell_type": "code",
   "execution_count": null,
   "metadata": {},
   "outputs": [],
   "source": [
    "# IoU vs difference in pred & gt #vertices \n",
    "fig104 = px.scatter(results[results['size'] == 'medium'], x='N_diff', y='iou', color='size',\n",
    "                    labels={'iou': 'IoU', 'N_diff': '#pred - #gt'},\n",
    "                    width=800, height=400)\n",
    "fig104.update_traces(marker_size=3)\n",
    "fig104.show()\n",
    "fig104.write_image('./outputs/fig104.png')"
   ]
  },
  {
   "cell_type": "code",
   "execution_count": null,
   "metadata": {},
   "outputs": [],
   "source": [
    "# IoU vs difference in pred & gt #vertices \n",
    "fig105 = px.scatter(results[results['size'] == 'large'], x='N_diff', y='iou', color='size',\n",
    "                    labels={'iou': 'IoU', 'N_diff': '#pred - #gt'},\n",
    "                    width=800, height=400)\n",
    "fig105.update_traces(marker_size=3)\n",
    "fig105.show()\n",
    "fig105.write_image('./outputs/fig105.png')"
   ]
  },
  {
   "cell_type": "code",
   "execution_count": null,
   "metadata": {},
   "outputs": [],
   "source": [
    "# IoU vs difference in pred & gt #vertices \n",
    "fig106 = px.scatter(results[results['iou'] < 0.5], x='N_diff', y='iou', color='size',\n",
    "                    labels={'iou': 'IoU', 'N_diff': '#pred - #gt'},\n",
    "                    width=800, height=400)\n",
    "fig106.update_traces(marker_size=3)\n",
    "fig106.show()\n",
    "fig106.write_image('./outputs/fig106.png')"
   ]
  },
  {
   "cell_type": "code",
   "execution_count": null,
   "metadata": {},
   "outputs": [],
   "source": [
    "results[np.logical_and(results['iou'] < 0.01, results['size'] == 'large')]"
   ]
  },
  {
   "cell_type": "code",
   "execution_count": null,
   "metadata": {},
   "outputs": [],
   "source": [
    "# IoU vs difference in pred & gt #vertices \n",
    "fig107 = px.scatter(results[results['N_diff'] == -1], x='N_diff', y='iou', color='size',\n",
    "                    labels={'iou': 'IoU', 'N_diff': '#pred - #gt'},\n",
    "                    width=800, height=400)\n",
    "fig107.update_traces(marker_size=3)\n",
    "fig107.show()\n",
    "fig107.write_image('./outputs/fig107.png')"
   ]
  },
  {
   "cell_type": "code",
   "execution_count": null,
   "metadata": {},
   "outputs": [],
   "source": [
    "# Q: Do we usually miss corners or over predict?\n",
    "fig108 = px.scatter(results, x='#vertices', y='#vertices_pred',\n",
    "                   labels={'#vertices_pred': '# pred vertices', '#vertices': '# gt vertices'},\n",
    "                   trendline=\"ols\",\n",
    "                   title=\"Ideal performance fits y=x line\",\n",
    "                   width=800, height=400)\n",
    "\n",
    "fig108.show()\n",
    "fig108.write_image('./outputs/fig108.png')"
   ]
  },
  {
   "cell_type": "code",
   "execution_count": null,
   "metadata": {},
   "outputs": [],
   "source": [
    "figure_data = []\n",
    "figure_data.extend([i for i in px.line(results, x=\"#vertices\", y='#vertices').to_dict()['data']])\n",
    "figure_data.extend([i for i in px.scatter(results, x='#vertices', y='#vertices_pred',\n",
    "                                          labels={'#vertices_pred': '# pred vertices', '#vertices': '# gt vertices'},\n",
    "                                          trendline=\"ols\",\n",
    "                                          title=\"Ideal performance fits y=x line\",\n",
    "                                          width=800, height=400,  trendline_color_override=\"red\",\n",
    "                                          ).to_dict()['data']])\n",
    "fig109 = go.Figure(figure_data)\n",
    "fig109.update_layout(barmode='overlay', width=800, height=400)\n",
    "fig109.update_traces(overwrite=True, marker={\"opacity\": 0.5}, showlegend=False)\n",
    "fig109.show()\n",
    "fig109.write_image('./outputs/fig109.png')"
   ]
  },
  {
   "cell_type": "markdown",
   "metadata": {},
   "source": [
    "## Image-based Results"
   ]
  },
  {
   "cell_type": "code",
   "execution_count": null,
   "metadata": {},
   "outputs": [],
   "source": [
    "del results\n",
    "img_results = pd.read_excel('CrowdAI_image_based.xlsx')"
   ]
  },
  {
   "cell_type": "markdown",
   "metadata": {},
   "source": [
    "*C-IoU*"
   ]
  },
  {
   "cell_type": "code",
   "execution_count": null,
   "metadata": {},
   "outputs": [],
   "source": [
    "# C-IoU histogram\n",
    "fig25 = px.histogram(img_results, x='ciou',\n",
    "                     labels={'ciou': 'C-IoU'},\n",
    "                     width=800, height=400)\n",
    "fig25.show()\n",
    "fig25.write_image('./outputs/fig25.png')"
   ]
  },
  {
   "cell_type": "code",
   "execution_count": null,
   "metadata": {},
   "outputs": [],
   "source": [
    "# IoU histogram\n",
    "fig26 = px.histogram(img_results, x='iou',\n",
    "                     labels={'iou': 'IoU'},\n",
    "                     width=800, height=400)\n",
    "fig26.show()\n",
    "fig26.write_image('./outputs/fig26.png')"
   ]
  },
  {
   "cell_type": "code",
   "execution_count": null,
   "metadata": {},
   "outputs": [],
   "source": [
    "# N Ratio histogram\n",
    "fig27 = px.histogram(img_results, x='N_ratio',\n",
    "                     labels={'N_ratio': 'N ratio'},\n",
    "                     width=800, height=400)\n",
    "fig27.show()\n",
    "fig27.write_image('./outputs/fig27.png')"
   ]
  },
  {
   "cell_type": "code",
   "execution_count": null,
   "metadata": {},
   "outputs": [],
   "source": [
    "# C-IoU & IoU histograms overlayed\n",
    "figure_data = []\n",
    "figure_data.extend([i for i in px.histogram(img_results, x=\"ciou\", histfunc=\"count\").to_dict()['data']])\n",
    "figure_data.extend([i for i in px.histogram(img_results, x=\"iou\", histfunc=\"count\").to_dict()['data']])\n",
    "\n",
    "fig28 = go.Figure(figure_data)\n",
    "fig28.update_layout(barmode='overlay', width=800, height=400)\n",
    "fig28.update_traces(overwrite=True, marker={\"opacity\": 0.7}, showlegend=True)\n",
    "fig28.show()\n",
    "fig28.write_image('./outputs/fig28.png')"
   ]
  },
  {
   "cell_type": "code",
   "execution_count": null,
   "metadata": {},
   "outputs": [],
   "source": [
    "# Q: Do we have outputs with high IoU and very low C-IOU?"
   ]
  },
  {
   "cell_type": "code",
   "execution_count": null,
   "metadata": {},
   "outputs": [],
   "source": [
    "# C-IoU vs N_GT\n",
    "fig29 = px.scatter(img_results, x='N_gt', y='ciou',\n",
    "                   labels={'ciou': 'C-IoU', 'N_gt': '# vertices in image'},\n",
    "                   trendline=\"rolling\", trendline_options=dict(window=5), # trendline=\"ols\",\n",
    "                   title=\"5-point moving average\",\n",
    "                   width=800, height=400)\n",
    "fig29.update_traces(marker_size=4)\n",
    "fig29.show()\n",
    "fig29.write_image('./outputs/fig29.png')"
   ]
  },
  {
   "cell_type": "code",
   "execution_count": null,
   "metadata": {},
   "outputs": [],
   "source": [
    "# IoU vs N_GT\n",
    "fig30 = px.scatter(img_results, x='N_gt', y='iou',\n",
    "                   labels={'iou': 'IoU', 'N_gt': '# vertices in image'},\n",
    "                   trendline=\"rolling\", trendline_options=dict(window=5), # trendline=\"ols\",\n",
    "                   title=\"5-point moving average\",\n",
    "                   width=800, height=400)\n",
    "fig30.update_traces(marker_size=4)\n",
    "fig30.show()\n",
    "fig30.write_image('./outputs/fig30.png')"
   ]
  },
  {
   "cell_type": "code",
   "execution_count": null,
   "metadata": {},
   "outputs": [],
   "source": [
    "# N Ratio vs N_GT\n",
    "fig31 = px.scatter(img_results, x='N_gt', y='N_ratio',\n",
    "                   labels={'N_ratio': 'N Ratio', 'N_gt': '# vertices in image'},\n",
    "                   trendline=\"rolling\", trendline_options=dict(window=5), # trendline=\"ols\",\n",
    "                   title=\"5-point moving average\",\n",
    "                   width=800, height=400)\n",
    "fig31.update_traces(marker_size=4)\n",
    "fig31.show()\n",
    "fig31.write_image('./outputs/fig31.png')\n",
    "\n",
    "print(img_results[img_results['N_ratio'] > 3]['image_id'])\n",
    "print('Mean N Ratio before removing the blunder:', img_results['N_ratio'].mean())\n",
    "print('Mean N Ratio after removing the blunder:', img_results[img_results['N_ratio'] < 3]['N_ratio'].mean())"
   ]
  },
  {
   "cell_type": "code",
   "execution_count": null,
   "metadata": {},
   "outputs": [],
   "source": [
    "# Q: Do we usually miss corners or over predict?\n",
    "fig32 = px.scatter(img_results, x='N_gt', y='N_dt',\n",
    "                   labels={'N_dt': '# pred vertices in image', 'N_gt': '# gt vertices in image'},\n",
    "                   trendline=\"ols\",\n",
    "                   title=\"Ideal performance fits y=x line\",\n",
    "                   width=800, height=400)\n",
    "\n",
    "fig32.show()\n",
    "fig32.write_image('./outputs/fig32.png')"
   ]
  },
  {
   "cell_type": "code",
   "execution_count": null,
   "metadata": {},
   "outputs": [],
   "source": [
    "figure_data = []\n",
    "figure_data.extend([i for i in px.line(img_results, x=\"N_gt\", y='N_gt').to_dict()['data']])\n",
    "figure_data.extend([i for i in px.scatter(img_results, x='N_gt', y='N_dt',\n",
    "                                          labels={'N_dt': '# pred vertices in image', 'N_gt': '# gt vertices in image'},\n",
    "                                          trendline=\"ols\",\n",
    "                                          title=\"Ideal performance fits y=x line\",\n",
    "                                          width=800, height=400,  trendline_color_override=\"red\",\n",
    "                                          ).to_dict()['data']])\n",
    "fig33 = go.Figure(figure_data)\n",
    "fig33.update_layout(barmode='overlay', width=800, height=400)\n",
    "fig33.update_traces(overwrite=True, marker={\"opacity\": 0.5}, showlegend=False)\n",
    "fig33.show()\n",
    "fig33.write_image('./outputs/fig33.png')"
   ]
  },
  {
   "cell_type": "code",
   "execution_count": null,
   "metadata": {},
   "outputs": [],
   "source": [
    "# Error Bars"
   ]
  },
  {
   "cell_type": "code",
   "execution_count": null,
   "metadata": {},
   "outputs": [],
   "source": []
  }
 ],
 "metadata": {
  "kernelspec": {
   "display_name": "Python 3 (ipykernel)",
   "language": "python",
   "name": "python3"
  },
  "language_info": {
   "codemirror_mode": {
    "name": "ipython",
    "version": 3
   },
   "file_extension": ".py",
   "mimetype": "text/x-python",
   "name": "python",
   "nbconvert_exporter": "python",
   "pygments_lexer": "ipython3",
   "version": "3.10.13"
  }
 },
 "nbformat": 4,
 "nbformat_minor": 4
}
